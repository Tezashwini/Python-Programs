{
 "cells": [
  {
   "cell_type": "code",
   "execution_count": null,
   "metadata": {},
   "outputs": [],
   "source": [
    "information"
   ]
  },
  {
   "cell_type": "markdown",
   "metadata": {},
   "source": [
    "# hello\n"
   ]
  },
  {
   "cell_type": "markdown",
   "metadata": {},
   "source": [
    "## hellooo"
   ]
  },
  {
   "cell_type": "markdown",
   "metadata": {},
   "source": [
    "###### hello\n"
   ]
  },
  {
   "cell_type": "markdown",
   "metadata": {},
   "source": [
    "** Bold **\n",
    "\n"
   ]
  },
  {
   "cell_type": "markdown",
   "metadata": {},
   "source": [
    "1. ordered list element 1\n",
    "2. ordered list element 2\n",
    "\n",
    "![python logo](pylogo.png)\n"
   ]
  },
  {
   "cell_type": "markdown",
   "metadata": {},
   "source": [
    "markdown@google.com"
   ]
  },
  {
   "cell_type": "markdown",
   "metadata": {},
   "source": [
    "## Python Basics :\n",
    "    -Scripting\n",
    "    -Object Oriented\n",
    "    \n"
   ]
  },
  {
   "cell_type": "markdown",
   "metadata": {},
   "source": []
  },
  {
   "cell_type": "code",
   "execution_count": 4,
   "metadata": {},
   "outputs": [
    {
     "name": "stdout",
     "output_type": "stream",
     "text": [
      "hello woww hey Python\n"
     ]
    }
   ],
   "source": [
    "#Python Comments\n",
    "\n",
    "print(\"hello\",\"woww\",end=\" \")\n",
    "print(\"hey Python\")"
   ]
  },
  {
   "cell_type": "code",
   "execution_count": null,
   "metadata": {},
   "outputs": [],
   "source": []
  },
  {
   "cell_type": "markdown",
   "metadata": {},
   "source": [
    "## ASSIGNMENT"
   ]
  },
  {
   "cell_type": "code",
   "execution_count": 10,
   "metadata": {},
   "outputs": [
    {
     "name": "stdout",
     "output_type": "stream",
     "text": [
      "123 567 987\n"
     ]
    }
   ],
   "source": [
    "N1=12345  #single Variable assignment\n",
    "N2=N3=N4=N1 #MULTI VARIABLE ASSIGNMENT\n",
    "#MULTI VARIABLE ASSIGNMENT WITH DIFFERENT VARIABLES\n",
    "\n",
    "A,B,C=123,567,987 #MULTI VARIABLE ASSIGNMENT\n",
    "print(A,B,C)\n",
    "\n"
   ]
  },
  {
   "cell_type": "markdown",
   "metadata": {},
   "source": []
  },
  {
   "cell_type": "markdown",
   "metadata": {},
   "source": [
    "## ARITHMETIC OPERATIONS\n",
    "    - ADDITION\n",
    "    -SUBTRACTION\n",
    "    -MULTIPLICATION\n",
    "     -DIVISION\n",
    "     -MODULUS\n",
    "     -POWER or EXPONENTIAL"
   ]
  },
  {
   "cell_type": "code",
   "execution_count": 11,
   "metadata": {},
   "outputs": [
    {
     "data": {
      "text/plain": [
       "3"
      ]
     },
     "execution_count": 11,
     "metadata": {},
     "output_type": "execute_result"
    }
   ],
   "source": [
    "N1%11"
   ]
  },
  {
   "cell_type": "code",
   "execution_count": 20,
   "metadata": {},
   "outputs": [
    {
     "data": {
      "text/plain": [
       "12528328468279800008275836185265394560488525390625"
      ]
     },
     "execution_count": 20,
     "metadata": {},
     "output_type": "execute_result"
    }
   ],
   "source": [
    "N3=N1**12\n",
    "\n",
    "type(N3)\n",
    "len(str(N3))\n",
    "N3\n",
    "\n",
    "\n"
   ]
  },
  {
   "cell_type": "markdown",
   "metadata": {},
   "source": [
    "## CONDITIONS :\n",
    "    "
   ]
  },
  {
   "cell_type": "code",
   "execution_count": 21,
   "metadata": {},
   "outputs": [
    {
     "data": {
      "text/plain": [
       "False"
      ]
     },
     "execution_count": 21,
     "metadata": {},
     "output_type": "execute_result"
    }
   ],
   "source": [
    "N3 <10 ** 9"
   ]
  },
  {
   "cell_type": "markdown",
   "metadata": {},
   "source": [
    "## DATA TYPES:\n",
    "    -INT\n",
    "    -FLOAT\n",
    "    -STRING\n",
    "    -DOUBLE"
   ]
  },
  {
   "cell_type": "code",
   "execution_count": 28,
   "metadata": {},
   "outputs": [
    {
     "data": {
      "text/plain": [
       "12.0"
      ]
     },
     "execution_count": 28,
     "metadata": {},
     "output_type": "execute_result"
    }
   ],
   "source": [
    "type(A)\n",
    "s1=\"Pythonn\"\n",
    "type(s1)\n",
    "\n",
    "f1=12.345656768980990\n",
    "type(f1)\n",
    "\n",
    "float(str(int(f1)))\n"
   ]
  },
  {
   "cell_type": "code",
   "execution_count": 34,
   "metadata": {},
   "outputs": [
    {
     "name": "stdout",
     "output_type": "stream",
     "text": [
      "TRUE\n"
     ]
    }
   ],
   "source": [
    "if f1 <10 ** 16:\n",
    "    print(\"TRUE\")\n",
    "else:\n",
    "    print(\"FALSE\")\n"
   ]
  },
  {
   "cell_type": "markdown",
   "metadata": {},
   "source": [
    "# Check if a number is even\n",
    "\n",
    "n = 123\n",
    "if n % 2 == 0:\n",
    "    print(\"even\")\n",
    "else :\n",
    "    print(\"odd\")"
   ]
  },
  {
   "cell_type": "code",
   "execution_count": 35,
   "metadata": {},
   "outputs": [
    {
     "name": "stdout",
     "output_type": "stream",
     "text": [
      "odd\n"
     ]
    }
   ],
   "source": [
    "n = 123\n",
    "if n % 2 == 0:\n",
    "    print(\"even\")\n",
    "else :\n",
    "    print(\"odd\")"
   ]
  },
  {
   "cell_type": "code",
   "execution_count": 40,
   "metadata": {},
   "outputs": [
    {
     "name": "stdout",
     "output_type": "stream",
     "text": [
      "Enter the number1dsfer\n",
      "Enter the number2dsgdsbd\n",
      "Enter the number3sdbdrgf\n",
      "sdbdrgf is the greatest\n"
     ]
    }
   ],
   "source": [
    "# Find the greatest of the numbers\n",
    "n1= input(\"Enter the number1\")\n",
    "n2= input(\"Enter the number2\")\n",
    "n3=input(\"Enter the number3\")\n",
    "if n1 > n2 and n1 > n3 :\n",
    "    print(n1,\"is the greatest\")\n",
    "elif n2 > n3 :\n",
    "    print(n2,\"is the greatest\")\n",
    "else :\n",
    "    print(n3,\"is the greatest\")"
   ]
  },
  {
   "cell_type": "code",
   "execution_count": 4,
   "metadata": {},
   "outputs": [
    {
     "name": "stdout",
     "output_type": "stream",
     "text": [
      "Enter the year2016\n",
      "given year is leap year\n"
     ]
    }
   ],
   "source": [
    "# find it leap year or not \n",
    "a=int(input(\"Enter the year\"))\n",
    "if ((a%400==0) or (a%4==0 and a%100!=0)):\n",
    "    print(\"given year is leap year\")\n",
    "else :\n",
    "    print(\"given year is not the leap year\")"
   ]
  },
  {
   "cell_type": "code",
   "execution_count": 5,
   "metadata": {},
   "outputs": [
    {
     "data": {
      "text/plain": [
       "True"
      ]
     },
     "execution_count": 5,
     "metadata": {},
     "output_type": "execute_result"
    }
   ],
   "source": [
    "2<3 and 3<4"
   ]
  },
  {
   "cell_type": "code",
   "execution_count": 8,
   "metadata": {},
   "outputs": [
    {
     "name": "stdout",
     "output_type": "stream",
     "text": [
      "Enter the number78\n",
      "not factor of 10\n"
     ]
    }
   ],
   "source": [
    "# MULTIPLE OF 10 OR NOT\n",
    "n = int(input(\"Enter the number\"))\n",
    "if (n%10==0):\n",
    "    print(\"factor of 10\")\n",
    "else:\n",
    "    print(\"not factor of 10\")"
   ]
  },
  {
   "cell_type": "code",
   "execution_count": 11,
   "metadata": {},
   "outputs": [
    {
     "name": "stdout",
     "output_type": "stream",
     "text": [
      "Enter the number1213123\n",
      "not factor of 1000\n"
     ]
    }
   ],
   "source": [
    "#Multiple of 1000 or not \n",
    "n = int(input(\"Enter the number\"))\n",
    "if (n%1000==0):\n",
    "    print(\"factor of 1000\")\n",
    "else:\n",
    "    print(\"not factor of 1000\")"
   ]
  },
  {
   "cell_type": "code",
   "execution_count": 2,
   "metadata": {},
   "outputs": [
    {
     "name": "stdout",
     "output_type": "stream",
     "text": [
      "enterthe number12\n",
      "enter the lower boundary10\n",
      "enter the upper boundary15\n",
      "number exists in a range\n"
     ]
    }
   ],
   "source": [
    "#Check number exists in a given range or not\n",
    "n1=int(input(\"enterthe number\"))\n",
    "lb=int(input(\"enter the lower boundary\"))\n",
    "ub=int(input(\"enter the upper boundary\"))\n",
    "if lb<=n1<=ub:\n",
    "    print(\"number exists in a range\")\n",
    "else:\n",
    "    print(\"number not in the range\")\n",
    "    "
   ]
  },
  {
   "cell_type": "code",
   "execution_count": null,
   "metadata": {},
   "outputs": [],
   "source": []
  },
  {
   "cell_type": "code",
   "execution_count": null,
   "metadata": {},
   "outputs": [],
   "source": []
  }
 ],
 "metadata": {
  "kernelspec": {
   "display_name": "Python 3",
   "language": "python",
   "name": "python3"
  },
  "language_info": {
   "codemirror_mode": {
    "name": "ipython",
    "version": 3
   },
   "file_extension": ".py",
   "mimetype": "text/x-python",
   "name": "python",
   "nbconvert_exporter": "python",
   "pygments_lexer": "ipython3",
   "version": "3.7.3"
  }
 },
 "nbformat": 4,
 "nbformat_minor": 2
}
