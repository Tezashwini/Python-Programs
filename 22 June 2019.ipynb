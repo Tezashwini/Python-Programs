{
 "cells": [
  {
   "cell_type": "markdown",
   "metadata": {},
   "source": [
    "# Day Objectives\n",
    "* File Handling\n",
    "    * Basic File Data Processing\n",
    "           *Accessing and Modifying File\n",
    "    * Char Count\n",
    "    * Line Count\n",
    "    * File size\n",
    "    * Word count\n",
    "    * Unique Word Count\n",
    "    "
   ]
  },
  {
   "cell_type": "code",
   "execution_count": 4,
   "metadata": {},
   "outputs": [
    {
     "data": {
      "text/plain": [
       "'raj,789912345,raj@gmail.com\\nrani,89876658709,rani@gmail.com\\nhello,8989786731,hellooo@gmail.com'"
      ]
     },
     "execution_count": 4,
     "metadata": {},
     "output_type": "execute_result"
    }
   ],
   "source": [
    "# Accessing the file \n",
    "def readfile(filepath):\n",
    "    with open(filepath,'r')as f:                      # with open (file,'mode'....mode=read,write,append)**\n",
    "        #print(type(f))\n",
    "        filedata=f.read()\n",
    "    return filedata\n",
    "filepath=\"Data Files/contactts.txt\"\n",
    "readfile(filepath)\n",
    "    "
   ]
  },
  {
   "cell_type": "code",
   "execution_count": 6,
   "metadata": {},
   "outputs": [
    {
     "data": {
      "text/plain": [
       "26"
      ]
     },
     "execution_count": 6,
     "metadata": {},
     "output_type": "execute_result"
    }
   ],
   "source": [
    "def writefile(filepath):\n",
    "    with open (filepath,'w')as f:\n",
    "        filedata=f.write(\"heloooooooo ,9827612738189\")\n",
    "    return filedata\n",
    "filepath='Data Files/contactts.txt'\n",
    "writefile(filepath)"
   ]
  },
  {
   "cell_type": "code",
   "execution_count": 16,
   "metadata": {},
   "outputs": [
    {
     "name": "stdout",
     "output_type": "stream",
     "text": [
      "5\n"
     ]
    }
   ],
   "source": [
    "def wordcount(filepath):\n",
    "    count=0\n",
    "    with open(filepath,'r')as f:                      # with open (file,'mode'....mode=read,write,append)**\n",
    "        for line in f:\n",
    "            for i in line.split():\n",
    "                count+=1\n",
    "        print(count)\n",
    "filepath=\"Data Files/contactts.txt\"\n",
    "wordcount(filepath)"
   ]
  },
  {
   "cell_type": "code",
   "execution_count": 22,
   "metadata": {},
   "outputs": [
    {
     "name": "stdout",
     "output_type": "stream",
     "text": [
      "28\n"
     ]
    }
   ],
   "source": [
    "def charcount(filepath):\n",
    "    count=0\n",
    "    with open(filepath,'r')as f:                      # with open (file,'mode'....mode=read,write,append)**\n",
    "        for line in f:\n",
    "            for i in line:\n",
    "                 if i.isalpha():\n",
    "                    count+=1\n",
    "        print(count)\n",
    "filepath=\"Data Files/contactts.txt\"\n",
    "charcount(filepath)"
   ]
  },
  {
   "cell_type": "code",
   "execution_count": 15,
   "metadata": {},
   "outputs": [
    {
     "name": "stdout",
     "output_type": "stream",
     "text": [
      "6\n"
     ]
    }
   ],
   "source": [
    "def linecount(filepath):\n",
    "    count=0\n",
    "    with open(filepath,'r')as f:                      # with open (file,'mode'....mode=read,write,append)**\n",
    "        for line in f:\n",
    "            count+=1\n",
    "        print(count)\n",
    "filepath=\"Data Files/contactts.txt\"\n",
    "linecount(filepath)"
   ]
  },
  {
   "cell_type": "code",
   "execution_count": 15,
   "metadata": {},
   "outputs": [
    {
     "name": "stdout",
     "output_type": "stream",
     "text": [
      "0\n"
     ]
    },
    {
     "data": {
      "text/plain": [
       "[2, 3, 4, 1]"
      ]
     },
     "execution_count": 15,
     "metadata": {},
     "output_type": "execute_result"
    }
   ],
   "source": [
    "def ucount(filepath):     #Create an empty unique list\n",
    "    count=0\n",
    "    k=[]\n",
    "    with open(filepath,'r')as f:\n",
    "        for line in f:\n",
    "            for i in line.split():\n",
    "                count+=1\n",
    "                k.append('')\n",
    "        print(count)\n",
    "filepath=\"Data Files/contactts.txt\"\n",
    "ucount(filepath)\n",
    "\n",
    "\n",
    "\n",
    "def ucounnn(s): \n",
    "    o=[]\n",
    "    for i in s:\n",
    "        if i not in o:\n",
    "            o.append(i)\n",
    "    return o\n",
    "s=[2,3,4,1,2,3,4]\n",
    "ucounnn(s)\n"
   ]
  },
  {
   "cell_type": "code",
   "execution_count": 30,
   "metadata": {},
   "outputs": [
    {
     "data": {
      "text/plain": [
       "215"
      ]
     },
     "execution_count": 30,
     "metadata": {},
     "output_type": "execute_result"
    }
   ],
   "source": [
    "import os\n",
    "filesize=os.path.getsize(filepath)\n",
    "filepath=\"Data Files/contacts.txt\"\n",
    "filesize"
   ]
  },
  {
   "cell_type": "code",
   "execution_count": null,
   "metadata": {},
   "outputs": [],
   "source": []
  },
  {
   "cell_type": "code",
   "execution_count": 32,
   "metadata": {},
   "outputs": [],
   "source": [
    "#line number count\n",
    "with open(filepath,'r+')as f:\n",
    "    linenum=1\n",
    "    lines=f.readlines()\n",
    "    fw=open(filepath,'w')\n",
    "    for line in lines:\n",
    "        print(linenum,line,end='',sep='',file=fw)\n",
    "        linenum+=1\n",
    "    fw.close()"
   ]
  },
  {
   "cell_type": "code",
   "execution_count": 9,
   "metadata": {},
   "outputs": [
    {
     "data": {
      "text/plain": [
       "{2: 1, 3: 1, 4: 2, 6: 1, 7: 2}"
      ]
     },
     "execution_count": 9,
     "metadata": {},
     "output_type": "execute_result"
    }
   ],
   "source": [
    "s=[2,3,4,4,6,7,7]\n",
    "l={}\n",
    "for i in s:\n",
    "    if i in l:\n",
    "        l[i]+=1\n",
    "    else:\n",
    "        l[i]=1\n",
    "l\n",
    "    "
   ]
  },
  {
   "cell_type": "code",
   "execution_count": 13,
   "metadata": {},
   "outputs": [
    {
     "data": {
      "text/plain": [
       "{7: 7, 3: 1, 2: 1, 1: 2}"
      ]
     },
     "execution_count": 13,
     "metadata": {},
     "output_type": "execute_result"
    }
   ],
   "source": [
    "r=[7,7,7,7,7,7,7,3,2,1,1]\n",
    "p={}\n",
    "for k in r:\n",
    "    if k in p:\n",
    "        p[k]+=1\n",
    "    else:\n",
    "        p[k]=1\n",
    "p\n"
   ]
  },
  {
   "cell_type": "code",
   "execution_count": 40,
   "metadata": {},
   "outputs": [
    {
     "data": {
      "text/plain": [
       "{2: 1, 3: 1, 4: 2, 6: 1, 7: 2}"
      ]
     },
     "execution_count": 40,
     "metadata": {},
     "output_type": "execute_result"
    }
   ],
   "source": [
    "d1={}\n",
    "for i in set(s):\n",
    "    d1[i]=s.count(i)\n",
    "d1"
   ]
  },
  {
   "cell_type": "code",
   "execution_count": 28,
   "metadata": {},
   "outputs": [
    {
     "name": "stdout",
     "output_type": "stream",
     "text": [
      "ui : 2\n",
      "sagdg : 3\n",
      "helooooo : 1\n",
      "yui : 1\n",
      "asdfhj : 1\n",
      "rtc : 1\n",
      "yhnm : 3\n",
      "ii : 1\n",
      "iigtjnn : 1\n",
      "wse : 2\n",
      "heloooooooo : 1\n",
      "ukyklil : 1\n",
      "9827612738189 : 1\n",
      "jjyj : 1\n",
      "fff : 1\n",
      "jku : 1\n",
      "tgb : 3\n"
     ]
    }
   ],
   "source": [
    "#function to print the frequency count of a\n",
    "# data in line1,line2,line3\n",
    "#o/p\n",
    "#data:3\n",
    "#in:3\n",
    "#line:3\n",
    "#1:1\n",
    "#2:1\n",
    "#3:1\n",
    "def ucount(filepath):     #Create an empty unique list\n",
    "    count=0\n",
    "    k=[]\n",
    "    with open(filepath,'r')as f:\n",
    "        for line in f:\n",
    "            for i in line.split():\n",
    "                k.append(i)\n",
    "        for i in set(k):\n",
    "            s=k.count(i)\n",
    "            print(i,\":\",s)\n",
    "filepath=\"Data Files/contactts.txt\"\n",
    "ucount(filepath)\n"
   ]
  },
  {
   "cell_type": "code",
   "execution_count": null,
   "metadata": {},
   "outputs": [],
   "source": []
  },
  {
   "cell_type": "code",
   "execution_count": null,
   "metadata": {},
   "outputs": [],
   "source": []
  },
  {
   "cell_type": "code",
   "execution_count": null,
   "metadata": {},
   "outputs": [],
   "source": []
  }
 ],
 "metadata": {
  "kernelspec": {
   "display_name": "Python 3",
   "language": "python",
   "name": "python3"
  },
  "language_info": {
   "codemirror_mode": {
    "name": "ipython",
    "version": 3
   },
   "file_extension": ".py",
   "mimetype": "text/x-python",
   "name": "python",
   "nbconvert_exporter": "python",
   "pygments_lexer": "ipython3",
   "version": "3.7.3"
  }
 },
 "nbformat": 4,
 "nbformat_minor": 2
}
