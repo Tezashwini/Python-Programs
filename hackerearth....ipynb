{
 "cells": [
  {
   "cell_type": "code",
   "execution_count": 4,
   "metadata": {},
   "outputs": [
    {
     "data": {
      "text/plain": [
       "[1, 2, 5, 45, 67]"
      ]
     },
     "execution_count": 4,
     "metadata": {},
     "output_type": "execute_result"
    }
   ],
   "source": [
    "l=[1,2,4,45,67]\n",
    "for i in range(len(l)):\n",
    "    if l[i]==4:\n",
    "        l[i]=5\n",
    "l"
   ]
  },
  {
   "cell_type": "code",
   "execution_count": 18,
   "metadata": {},
   "outputs": [
    {
     "name": "stdout",
     "output_type": "stream",
     "text": [
      "1234\n",
      "10\n"
     ]
    }
   ],
   "source": [
    "n=int(input())\n",
    "k=str(n)\n",
    "s=0\n",
    "for i in range(len(k)):\n",
    "    t=(n%10)\n",
    "    s=s+t\n",
    "    n=n//10\n",
    "print(s)"
   ]
  },
  {
   "cell_type": "code",
   "execution_count": 16,
   "metadata": {},
   "outputs": [
    {
     "name": "stdout",
     "output_type": "stream",
     "text": [
      "1234\n"
     ]
    },
    {
     "data": {
      "text/plain": [
       "10"
      ]
     },
     "execution_count": 16,
     "metadata": {},
     "output_type": "execute_result"
    }
   ],
   "source": [
    "n=input()\n",
    "k=sum(int(x) for x in n)\n",
    "k"
   ]
  },
  {
   "cell_type": "code",
   "execution_count": 8,
   "metadata": {},
   "outputs": [
    {
     "data": {
      "text/plain": [
       "-1"
      ]
     },
     "execution_count": 8,
     "metadata": {},
     "output_type": "execute_result"
    }
   ],
   "source": [
    "# hackerearth (easy-level)\n",
    "#largest number with integer\n",
    "#Second largest number in the list\n",
    "#kth largest number in a list\n",
    "\n",
    "# element with high frequecy\n",
    "#Second high frequency\n",
    "# kth highest frequency\n",
    "\n",
    "#{a:4,g:9,i:6,p:213,c:6}\n",
    "#[4,6,6,9,213]\n",
    "#[213,10,9,6,6,4]\n",
    "#[a,c,g,i,p]\n",
    "#k=5\n",
    "#li=[]\n",
    "#\n",
    "def klargestfreq(s,k): #construct the frequency dictionary\n",
    "    #unique=[]\n",
    "    freq={}\n",
    "    for i in s:\n",
    "        if i not in freq.keys():\n",
    "            freq[i]=s.count(i)\n",
    "        #Extract unique frequencies in descending order\n",
    "        values=sorted(freq.values(),reverse=True)\n",
    "        uniquevalues=list(set(values))\n",
    "        uniquevalues=sorted(uniquevalues,reverse=True)\n",
    "        #Identify the Kth largest\n",
    "        if k<len(uniquevalues):\n",
    "            kvalue=uniquevalues[k-1]\n",
    "        else :\n",
    "            return -1\n",
    "        # Get all the elements with Kth largest frequency\n",
    "            li= []\n",
    "            for item in freq.items():\n",
    "                if item[l] == kvalue:\n",
    "                    li.append(item[0])\n",
    "        #minimum kth frequency\n",
    "            return min(li)\n",
    "klargestfreq('aabcdcc',1)\n",
    "            \n",
    "    \n"
   ]
  },
  {
   "cell_type": "code",
   "execution_count": null,
   "metadata": {},
   "outputs": [],
   "source": []
  }
 ],
 "metadata": {
  "kernelspec": {
   "display_name": "Python 3",
   "language": "python",
   "name": "python3"
  },
  "language_info": {
   "codemirror_mode": {
    "name": "ipython",
    "version": 3
   },
   "file_extension": ".py",
   "mimetype": "text/x-python",
   "name": "python",
   "nbconvert_exporter": "python",
   "pygments_lexer": "ipython3",
   "version": "3.7.3"
  }
 },
 "nbformat": 4,
 "nbformat_minor": 2
}
