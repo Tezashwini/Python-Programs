{
 "cells": [
  {
   "cell_type": "markdown",
   "metadata": {},
   "source": [
    "Marks Analysis Application\n",
    "    #Generate the marks file for n students\n",
    "    #Input:Each line contains the marks\n",
    "    #Generates a report with the following information -(distinction,failed,pass)\n",
    "            # Class Average\n",
    "            # % of students passed\n",
    "            # % of students -distinction\n",
    "            # % of students failed"
   ]
  },
  {
   "cell_type": "code",
   "execution_count": null,
   "metadata": {},
   "outputs": [],
   "source": [
    "from random import randint\n",
    "def marksfile(n,lb,ub):\n",
    "    with open(filepath,'w') as f:\n",
    "        for i in range(0,n):\n",
    "            r=randint(lb,ub)\n",
    "            f.write(str(r) + '\\n')\n",
    "    return\n",
    "filepath=\"Data Files/marks.txt\"\n",
    "marksfile(17,0,100)\n",
    "def classaverage():\n",
    "    total=0\n",
    "    count=0\n",
    "    with open(filepath,'r') as f:\n",
    "        for i in f:\n",
    "            count+=1\n",
    "            total=total+int(i)\n",
    "            #print(total)\n",
    "            avg=total/count\n",
    "        print(avg)\n",
    "        return total\n",
    "filepath=\"Data Files/marks.txt\"\n",
    "classaverage()\n",
    "def grade():\n",
    "    with open(filepath,'r+')as f:\n",
    "        for i in f:\n",
    "            #print(i)\n",
    "            #with open(filepath,'r')as f:\n",
    "                with open(filepath,'a')as f:\n",
    "                    if (int(i))>=85:\n",
    "                        f.write(str(i)+\"Distinction\")\n",
    "                        print(int(i),\"Distinction\")\n",
    "                    elif (int(i))>=35:\n",
    "                        f.write(str (i)+\"1st class\")\n",
    "                        print(int (i),\"1st class\")\n",
    "                    elif (int(i))<=35:\n",
    "                        f.write(str(i)+\"failed\")\n",
    "                        print(int (i),\"failed\")\n",
    "grade()\n",
    "return grade()\n",
    "def gradecent():\n",
    "    k=grade\n",
    "    "
   ]
  }
 ],
 "metadata": {
  "kernelspec": {
   "display_name": "Python 3",
   "language": "python",
   "name": "python3"
  },
  "language_info": {
   "codemirror_mode": {
    "name": "ipython",
    "version": 3
   },
   "file_extension": ".py",
   "mimetype": "text/x-python",
   "name": "python",
   "nbconvert_exporter": "python",
   "pygments_lexer": "ipython3",
   "version": "3.7.3"
  }
 },
 "nbformat": 4,
 "nbformat_minor": 2
}
