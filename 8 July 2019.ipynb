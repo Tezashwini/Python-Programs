{
 "cells": [
  {
   "cell_type": "markdown",
   "metadata": {},
   "source": [
    "* Function to print all numbers divisible by 6 and not a factor of 100 in a given range(lb, ub) inclusive <br>\n",
    "* Function to find the average of cubes of all even numbers in a given range(lb, ub) inclusive <br>\n",
    "* Function to generate the list of factors for a given number <br>\n",
    "* Function to calculate the factorial of a given number <br>\n",
    "* Function to check if a given number is Prime <br>\n",
    "* Function to calculate the average first N Prime numbers <br>\n",
    "* Function to generate all Perfect numbers in a given range <br>\n"
   ]
  },
  {
   "cell_type": "code",
   "execution_count": 4,
   "metadata": {},
   "outputs": [
    {
     "name": "stdout",
     "output_type": "stream",
     "text": [
      "enter the number1\n",
      "enter the number10\n",
      "6\n"
     ]
    }
   ],
   "source": [
    "def div6(lb,ub):\n",
    "    for i in range(lb,ub+1):\n",
    "        if i%6==0:\n",
    "            if i%100!=0:\n",
    "                print(i)\n",
    "lb=int(input(\"enter the number\"))\n",
    "ub=int(input(\"enter the number\"))\n",
    "div6(lb,ub)"
   ]
  },
  {
   "cell_type": "code",
   "execution_count": 14,
   "metadata": {},
   "outputs": [
    {
     "name": "stdout",
     "output_type": "stream",
     "text": [
      "enter the number1\n",
      "enter the number10\n",
      "2 - 8\n",
      "4 - 64\n",
      "6 - 216\n",
      "8 - 512\n",
      "10 - 1000\n",
      "avg of cubes of even numbers in a given range is 180\n"
     ]
    }
   ],
   "source": [
    "def cubeavg(lb,ub):\n",
    "    sum=0\n",
    "    for i in range(lb,ub+1):\n",
    "        if i%2==0:\n",
    "            s=i**3\n",
    "            print(i,\"-\",s)\n",
    "            sum+=s\n",
    "    print(\"avg of cubes of even numbers in a given range is\",sum//i)\n",
    "            \n",
    "lb=int(input(\"enter the number\"))\n",
    "ub=int(input(\"enter the number\"))\n",
    "cubeavg(lb,ub)"
   ]
  },
  {
   "cell_type": "code",
   "execution_count": 44,
   "metadata": {},
   "outputs": [
    {
     "name": "stdout",
     "output_type": "stream",
     "text": [
      "enter the number5\n"
     ]
    },
    {
     "data": {
      "text/plain": [
       "[1, 5]"
      ]
     },
     "execution_count": 44,
     "metadata": {},
     "output_type": "execute_result"
    }
   ],
   "source": [
    "def factors(n):\n",
    "    l=[]\n",
    "    for i in range(1,n+1):\n",
    "        if n%i==0:\n",
    "            l.append(i)\n",
    "    return l\n",
    "n=int(input(\"enter the number\"))\n",
    "factors(n)\n",
    "            "
   ]
  },
  {
   "cell_type": "code",
   "execution_count": 33,
   "metadata": {},
   "outputs": [
    {
     "name": "stdout",
     "output_type": "stream",
     "text": [
      "enter the number7\n",
      "factorial of 7 is 5040\n"
     ]
    }
   ],
   "source": [
    "def factorial(n):\n",
    "    fact=1\n",
    "    for i in range(1,n+1):\n",
    "        fact=fact*i\n",
    "    print(\"factorial of\",n,\"is\",fact)\n",
    "n=int(input(\"enter the number\"))\n",
    "factorial(n)"
   ]
  },
  {
   "cell_type": "code",
   "execution_count": 67,
   "metadata": {},
   "outputs": [
    {
     "name": "stdout",
     "output_type": "stream",
     "text": [
      "enter the number7\n",
      "7 is primenumber\n"
     ]
    },
    {
     "data": {
      "text/plain": [
       "1"
      ]
     },
     "execution_count": 67,
     "metadata": {},
     "output_type": "execute_result"
    }
   ],
   "source": [
    "def isprime(n):\n",
    "    if len(factors(n))==2:\n",
    "        print(n,\"is primenumber\")\n",
    "        return 1\n",
    "\n",
    "    else:\n",
    "        print(n,\"is not a primenumber\")\n",
    "        return 0\n",
    "n=int(input(\"enter the number\"))\n",
    "isprime(n)"
   ]
  },
  {
   "cell_type": "code",
   "execution_count": 70,
   "metadata": {},
   "outputs": [
    {
     "name": "stdout",
     "output_type": "stream",
     "text": [
      "enter the number1\n",
      "enter the number10\n",
      "1 is not a primenumber\n",
      "2 is primenumber\n",
      "3 is primenumber\n",
      "4 is not a primenumber\n",
      "5 is primenumber\n",
      "6 is not a primenumber\n",
      "7 is primenumber\n",
      "8 is not a primenumber\n",
      "9 is not a primenumber\n",
      "10 is not a primenumber\n",
      "4.25\n"
     ]
    }
   ],
   "source": [
    "def avgofprime(lb,ub):\n",
    "    sum=0\n",
    "    count=0\n",
    "    for i in range(1,ub+1):\n",
    "        if isprime(i)==True:\n",
    "            #print(i)\n",
    "            count+=1\n",
    "            sum+=i\n",
    "    print(sum//count)\n",
    "lb=int(input(\"enter the number\"))\n",
    "ub=int(input(\"enter the number\"))\n",
    "avgofprime(lb,ub)"
   ]
  },
  {
   "cell_type": "code",
   "execution_count": 93,
   "metadata": {},
   "outputs": [
    {
     "name": "stdout",
     "output_type": "stream",
     "text": [
      "enter the number1\n",
      "enter the number100\n",
      "6\n",
      "28\n"
     ]
    }
   ],
   "source": [
    "#n=int(input(\"enter the number\"))\n",
    "def isperfect(n):\n",
    "    sum=0\n",
    "    for i in range(1,n):\n",
    "        if (n%i==0):\n",
    "            sum+=i\n",
    "    if(sum==n):\n",
    "        #print(\"perfect number\")\n",
    "        return 1\n",
    "    else:\n",
    "        #print(\"not a perfect\")\n",
    "        return 0\n",
    "def prange(lb,ub):\n",
    "    for i in range(1,ub+1):\n",
    "         if isperfect(i)==1:\n",
    "            print(i)\n",
    "#print(sum)\n",
    "lb=int(input(\"enter the number\"))\n",
    "ub=int(input(\"enter the number\"))\n",
    "prange(lb,ub)"
   ]
  },
  {
   "cell_type": "markdown",
   "metadata": {},
   "source": [
    "## Advanced Problem Set( Optional ) <br>\n",
    "* Function to calculate the average of all factorials in a given range <br>\n",
    "* Function to generate N odd Armstrong numbers <br>\n",
    "* Function to generate Multiplication table for a number in a given range <br>\n",
    "        *10 in the range(100, 102) inclusive <br>\n",
    "        *10 x 100 = 1000 <br>\n",
    "        *10 x 101 = 1010 <br>\n",
    "        *10 x 102 = 1020 <br>\n"
   ]
  },
  {
   "cell_type": "code",
   "execution_count": 1,
   "metadata": {},
   "outputs": [
    {
     "name": "stdout",
     "output_type": "stream",
     "text": [
      "enter the number1\n",
      "enter the number10\n"
     ]
    },
    {
     "data": {
      "text/plain": [
       "403791"
      ]
     },
     "execution_count": 1,
     "metadata": {},
     "output_type": "execute_result"
    }
   ],
   "source": [
    "lb=int(input(\"enter the number\"))\n",
    "ub=int(input(\"enter the number\"))\n",
    "\n",
    "def avgoffact(lb,ub):\n",
    "    fact=1\n",
    "    sum=0\n",
    "    count=0\n",
    "    for i in range(1,ub+1):\n",
    "        fact=fact*i\n",
    "        #print(fact)\n",
    "        sum+=fact\n",
    "        count+=1\n",
    "    #print(count)\n",
    "    return sum//count\n",
    "avgoffact(lb,ub)\n",
    "        "
   ]
  },
  {
   "cell_type": "code",
   "execution_count": 7,
   "metadata": {},
   "outputs": [
    {
     "name": "stdout",
     "output_type": "stream",
     "text": [
      "enter the number123\n"
     ]
    },
    {
     "ename": "TypeError",
     "evalue": "unsupported operand type(s) for ** or pow(): 'str' and 'int'",
     "output_type": "error",
     "traceback": [
      "\u001b[1;31m---------------------------------------------------------------------------\u001b[0m",
      "\u001b[1;31mTypeError\u001b[0m                                 Traceback (most recent call last)",
      "\u001b[1;32m<ipython-input-7-547c1ead6dc3>\u001b[0m in \u001b[0;36m<module>\u001b[1;34m\u001b[0m\n\u001b[0;32m      7\u001b[0m     \u001b[1;32mfor\u001b[0m \u001b[0mi\u001b[0m \u001b[1;32min\u001b[0m \u001b[0mrange\u001b[0m\u001b[1;33m(\u001b[0m\u001b[1;36m0\u001b[0m\u001b[1;33m,\u001b[0m\u001b[0ms\u001b[0m\u001b[1;33m+\u001b[0m\u001b[1;36m1\u001b[0m\u001b[1;33m)\u001b[0m\u001b[1;33m:\u001b[0m\u001b[1;33m\u001b[0m\u001b[1;33m\u001b[0m\u001b[0m\n\u001b[0;32m      8\u001b[0m         \u001b[0mprint\u001b[0m\u001b[1;33m(\u001b[0m\u001b[0mn1\u001b[0m\u001b[1;33m[\u001b[0m\u001b[0mi\u001b[0m\u001b[1;33m]\u001b[0m\u001b[1;33m**\u001b[0m\u001b[0ms\u001b[0m\u001b[1;33m,\u001b[0m\u001b[0mend\u001b[0m\u001b[1;33m=\u001b[0m\u001b[1;34m\" \"\u001b[0m\u001b[1;33m)\u001b[0m\u001b[1;33m\u001b[0m\u001b[1;33m\u001b[0m\u001b[0m\n\u001b[1;32m----> 9\u001b[1;33m \u001b[0marmstrong\u001b[0m\u001b[1;33m(\u001b[0m\u001b[0mn\u001b[0m\u001b[1;33m)\u001b[0m\u001b[1;33m\u001b[0m\u001b[1;33m\u001b[0m\u001b[0m\n\u001b[0m\u001b[0;32m     10\u001b[0m \u001b[1;33m\u001b[0m\u001b[0m\n\u001b[0;32m     11\u001b[0m \u001b[1;33m\u001b[0m\u001b[0m\n",
      "\u001b[1;32m<ipython-input-7-547c1ead6dc3>\u001b[0m in \u001b[0;36marmstrong\u001b[1;34m(n)\u001b[0m\n\u001b[0;32m      6\u001b[0m     \u001b[1;31m#print(s)\u001b[0m\u001b[1;33m\u001b[0m\u001b[1;33m\u001b[0m\u001b[1;33m\u001b[0m\u001b[0m\n\u001b[0;32m      7\u001b[0m     \u001b[1;32mfor\u001b[0m \u001b[0mi\u001b[0m \u001b[1;32min\u001b[0m \u001b[0mrange\u001b[0m\u001b[1;33m(\u001b[0m\u001b[1;36m0\u001b[0m\u001b[1;33m,\u001b[0m\u001b[0ms\u001b[0m\u001b[1;33m+\u001b[0m\u001b[1;36m1\u001b[0m\u001b[1;33m)\u001b[0m\u001b[1;33m:\u001b[0m\u001b[1;33m\u001b[0m\u001b[1;33m\u001b[0m\u001b[0m\n\u001b[1;32m----> 8\u001b[1;33m         \u001b[0mprint\u001b[0m\u001b[1;33m(\u001b[0m\u001b[0mn1\u001b[0m\u001b[1;33m[\u001b[0m\u001b[0mi\u001b[0m\u001b[1;33m]\u001b[0m\u001b[1;33m**\u001b[0m\u001b[0ms\u001b[0m\u001b[1;33m,\u001b[0m\u001b[0mend\u001b[0m\u001b[1;33m=\u001b[0m\u001b[1;34m\" \"\u001b[0m\u001b[1;33m)\u001b[0m\u001b[1;33m\u001b[0m\u001b[1;33m\u001b[0m\u001b[0m\n\u001b[0m\u001b[0;32m      9\u001b[0m \u001b[0marmstrong\u001b[0m\u001b[1;33m(\u001b[0m\u001b[0mn\u001b[0m\u001b[1;33m)\u001b[0m\u001b[1;33m\u001b[0m\u001b[1;33m\u001b[0m\u001b[0m\n\u001b[0;32m     10\u001b[0m \u001b[1;33m\u001b[0m\u001b[0m\n",
      "\u001b[1;31mTypeError\u001b[0m: unsupported operand type(s) for ** or pow(): 'str' and 'int'"
     ]
    }
   ],
   "source": [
    "n=int(input(\"enter the number\"))\n",
    "n1=str(n)\n",
    "def armstrong(n):\n",
    "    s=len(n1)\n",
    "    sum=0\n",
    "    #print(s)\n",
    "    for i in range(0,s+1):\n",
    "        print(n1[i]**s,end=\" \")\n",
    "armstrong(n)\n",
    "    \n",
    "    "
   ]
  },
  {
   "cell_type": "code",
   "execution_count": null,
   "metadata": {},
   "outputs": [],
   "source": []
  },
  {
   "cell_type": "code",
   "execution_count": null,
   "metadata": {},
   "outputs": [],
   "source": []
  },
  {
   "cell_type": "code",
   "execution_count": null,
   "metadata": {},
   "outputs": [],
   "source": []
  }
 ],
 "metadata": {
  "kernelspec": {
   "display_name": "Python 3",
   "language": "python",
   "name": "python3"
  },
  "language_info": {
   "codemirror_mode": {
    "name": "ipython",
    "version": 3
   },
   "file_extension": ".py",
   "mimetype": "text/x-python",
   "name": "python",
   "nbconvert_exporter": "python",
   "pygments_lexer": "ipython3",
   "version": "3.7.3"
  }
 },
 "nbformat": 4,
 "nbformat_minor": 2
}
