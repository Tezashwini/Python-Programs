{
 "cells": [
  {
   "cell_type": "markdown",
   "metadata": {},
   "source": [
    "# Contacts Application\n",
    "        #Add,search,List,Modify Delete Contact\n",
    "# Find and Replace application\n",
    "        # Count the total number of occurances\n",
    "        # If word existing\n",
    "        # Replace all occurances of a word which\n",
    "# Marks Analysis Application\n",
    "        #Generate the marks file for n students\n",
    "        #Input:Each line contains the marks\n",
    "        #Generates a report with the following information -(distinction,failed,pass)\n",
    "                # Class Average\n",
    "                # % of students passed\n",
    "                # % of students -distinction\n",
    "                # % of students failed"
   ]
  },
  {
   "cell_type": "code",
   "execution_count": 148,
   "metadata": {},
   "outputs": [
    {
     "name": "stdout",
     "output_type": "stream",
     "text": [
      "36.76470588235294\n",
      "34 failed\n",
      "15 failed\n",
      "16 failed\n",
      "51 1st class\n",
      "45 1st class\n",
      "0 failed\n",
      "54 1st class\n",
      "40 1st class\n",
      "91 Distinction\n",
      "40 1st class\n",
      "31 failed\n",
      "100 Distinction\n",
      "51 1st class\n",
      "33 failed\n",
      "2 failed\n",
      "3 failed\n",
      "19 failed\n",
      "34 failed\n"
     ]
    },
    {
     "ename": "ValueError",
     "evalue": "invalid literal for int() with base 10: 'failed15\\n'",
     "output_type": "error",
     "traceback": [
      "\u001b[1;31m---------------------------------------------------------------------------\u001b[0m",
      "\u001b[1;31mValueError\u001b[0m                                Traceback (most recent call last)",
      "\u001b[1;32m<ipython-input-148-32e1d93f7359>\u001b[0m in \u001b[0;36m<module>\u001b[1;34m\u001b[0m\n\u001b[0;32m     36\u001b[0m                         \u001b[0mf\u001b[0m\u001b[1;33m.\u001b[0m\u001b[0mwrite\u001b[0m\u001b[1;33m(\u001b[0m\u001b[0mstr\u001b[0m\u001b[1;33m(\u001b[0m\u001b[0mi\u001b[0m\u001b[1;33m)\u001b[0m\u001b[1;33m+\u001b[0m\u001b[1;34m\"failed\"\u001b[0m\u001b[1;33m)\u001b[0m\u001b[1;33m\u001b[0m\u001b[1;33m\u001b[0m\u001b[0m\n\u001b[0;32m     37\u001b[0m                         \u001b[0mprint\u001b[0m\u001b[1;33m(\u001b[0m\u001b[0mint\u001b[0m \u001b[1;33m(\u001b[0m\u001b[0mi\u001b[0m\u001b[1;33m)\u001b[0m\u001b[1;33m,\u001b[0m\u001b[1;34m\"failed\"\u001b[0m\u001b[1;33m)\u001b[0m\u001b[1;33m\u001b[0m\u001b[1;33m\u001b[0m\u001b[0m\n\u001b[1;32m---> 38\u001b[1;33m \u001b[0mgrade\u001b[0m\u001b[1;33m(\u001b[0m\u001b[1;33m)\u001b[0m\u001b[1;33m\u001b[0m\u001b[1;33m\u001b[0m\u001b[0m\n\u001b[0m\u001b[0;32m     39\u001b[0m \u001b[1;32mreturn\u001b[0m \u001b[0mgrade\u001b[0m\u001b[1;33m(\u001b[0m\u001b[1;33m)\u001b[0m\u001b[1;33m\u001b[0m\u001b[1;33m\u001b[0m\u001b[0m\n\u001b[0;32m     40\u001b[0m \u001b[1;32mdef\u001b[0m \u001b[0mgradecent\u001b[0m\u001b[1;33m(\u001b[0m\u001b[1;33m)\u001b[0m\u001b[1;33m:\u001b[0m\u001b[1;33m\u001b[0m\u001b[1;33m\u001b[0m\u001b[0m\n",
      "\u001b[1;32m<ipython-input-148-32e1d93f7359>\u001b[0m in \u001b[0;36mgrade\u001b[1;34m()\u001b[0m\n\u001b[0;32m     27\u001b[0m             \u001b[1;31m#with open(filepath,'r')as f:\u001b[0m\u001b[1;33m\u001b[0m\u001b[1;33m\u001b[0m\u001b[1;33m\u001b[0m\u001b[0m\n\u001b[0;32m     28\u001b[0m                 \u001b[1;32mwith\u001b[0m \u001b[0mopen\u001b[0m\u001b[1;33m(\u001b[0m\u001b[0mfilepath\u001b[0m\u001b[1;33m,\u001b[0m\u001b[1;34m'a'\u001b[0m\u001b[1;33m)\u001b[0m\u001b[1;32mas\u001b[0m \u001b[0mf\u001b[0m\u001b[1;33m:\u001b[0m\u001b[1;33m\u001b[0m\u001b[1;33m\u001b[0m\u001b[0m\n\u001b[1;32m---> 29\u001b[1;33m                     \u001b[1;32mif\u001b[0m \u001b[1;33m(\u001b[0m\u001b[0mint\u001b[0m\u001b[1;33m(\u001b[0m\u001b[0mi\u001b[0m\u001b[1;33m)\u001b[0m\u001b[1;33m)\u001b[0m\u001b[1;33m>=\u001b[0m\u001b[1;36m85\u001b[0m\u001b[1;33m:\u001b[0m\u001b[1;33m\u001b[0m\u001b[1;33m\u001b[0m\u001b[0m\n\u001b[0m\u001b[0;32m     30\u001b[0m                         \u001b[0mf\u001b[0m\u001b[1;33m.\u001b[0m\u001b[0mwrite\u001b[0m\u001b[1;33m(\u001b[0m\u001b[0mstr\u001b[0m\u001b[1;33m(\u001b[0m\u001b[0mi\u001b[0m\u001b[1;33m)\u001b[0m\u001b[1;33m+\u001b[0m\u001b[1;34m\"Distinction\"\u001b[0m\u001b[1;33m)\u001b[0m\u001b[1;33m\u001b[0m\u001b[1;33m\u001b[0m\u001b[0m\n\u001b[0;32m     31\u001b[0m                         \u001b[0mprint\u001b[0m\u001b[1;33m(\u001b[0m\u001b[0mint\u001b[0m\u001b[1;33m(\u001b[0m\u001b[0mi\u001b[0m\u001b[1;33m)\u001b[0m\u001b[1;33m,\u001b[0m\u001b[1;34m\"Distinction\"\u001b[0m\u001b[1;33m)\u001b[0m\u001b[1;33m\u001b[0m\u001b[1;33m\u001b[0m\u001b[0m\n",
      "\u001b[1;31mValueError\u001b[0m: invalid literal for int() with base 10: 'failed15\\n'"
     ]
    }
   ],
   "source": [
    "from random import randint\n",
    "def marksfile(n,lb,ub):\n",
    "    with open(filepath,'w') as f:\n",
    "        for i in range(0,n):\n",
    "            r=randint(lb,ub)\n",
    "            f.write(str(r) + '\\n')\n",
    "    return\n",
    "filepath=\"Data Files/marks.txt\"\n",
    "marksfile(17,0,100)\n",
    "def classaverage():\n",
    "    total=0\n",
    "    count=0\n",
    "    with open(filepath,'r') as f:\n",
    "        for i in f:\n",
    "            count+=1\n",
    "            total=total+int(i)\n",
    "            #print(total)\n",
    "            avg=total/count\n",
    "        print(avg)\n",
    "        return total\n",
    "filepath=\"Data Files/marks.txt\"\n",
    "classaverage()\n",
    "def grade():\n",
    "    with open(filepath,'r+')as f:\n",
    "        for i in f:\n",
    "            #print(i)\n",
    "            #with open(filepath,'r')as f:\n",
    "                with open(filepath,'a')as f:\n",
    "                    if (int(i))>=85:\n",
    "                        f.write(str(i)+\"Distinction\")\n",
    "                        print(int(i),\"Distinction\")\n",
    "                    elif (int(i))>=35:\n",
    "                        f.write(str (i)+\"1st class\")\n",
    "                        print(int (i),\"1st class\")\n",
    "                    elif (int(i))<=35:\n",
    "                        f.write(str(i)+\"failed\")\n",
    "                        print(int (i),\"failed\")\n",
    "grade()\n",
    "return grade()\n",
    "def gradecent():\n",
    "    k=grade\n",
    "    \n",
    "\n",
    "    "
   ]
  },
  {
   "cell_type": "code",
   "execution_count": 45,
   "metadata": {},
   "outputs": [],
   "source": [
    "from random import randint\n",
    "def marksfile(n,lb,ub):\n",
    "    with open(filepath,'w') as f:\n",
    "        for i in range(0,n):\n",
    "            r=randint(lb,ub)\n",
    "            f.write(str(r) + '\\n')\n",
    "    return\n",
    "filepath=\"Data Files/marks.txt\"\n",
    "marksfile(17,0,100)"
   ]
  },
  {
   "cell_type": "code",
   "execution_count": null,
   "metadata": {},
   "outputs": [],
   "source": [
    "# function to generate marks of distinction,pass,fail\n",
    "def marksfile(n,lb,ub):\n",
    "    with open(filepath,'w') as f:\n",
    "        for i in range(0,n):\n",
    "            r=randint(lb,ub)\n",
    "            f.write(str(r) + '\\n')\n",
    "    return\n",
    "filepath=\"Data Files/marks.txt\"\n",
    "marksfile(7,0,100)\n",
    "\n",
    "    "
   ]
  },
  {
   "cell_type": "code",
   "execution_count": 63,
   "metadata": {},
   "outputs": [
    {
     "data": {
      "text/plain": [
       "'[1, 2, 3]'"
      ]
     },
     "execution_count": 63,
     "metadata": {},
     "output_type": "execute_result"
    }
   ],
   "source": [
    "l=[1,2,3]\n",
    "li=str(l)\n",
    "li"
   ]
  },
  {
   "cell_type": "code",
   "execution_count": 103,
   "metadata": {},
   "outputs": [
    {
     "name": "stdout",
     "output_type": "stream",
     "text": [
      "25\n",
      " failed\n",
      "39\n",
      " 1st class\n",
      "97\n",
      " Distinction\n",
      "88\n",
      " Distinction\n",
      "47\n",
      " 1st class\n",
      "25\n",
      " failed\n",
      "45\n",
      " 1st class\n",
      "45\n",
      " 1st class\n",
      "9\n",
      " failed\n",
      "40\n",
      " 1st class\n",
      "64\n",
      " 1st class\n",
      "37\n",
      " 1st class\n",
      "3\n",
      " failed\n",
      "65\n",
      " 1st class\n",
      "56\n",
      " 1st class\n",
      "72\n",
      " 1st class\n",
      "72\n",
      " 1st class\n",
      "25 failed\n"
     ]
    }
   ],
   "source": [
    "filepath='Data Files/marks.txt'\n",
    "with open(filepath,'r')as f:\n",
    "    for i in f:\n",
    "        #print(i)\n",
    "        if int(i)>=85:\n",
    "            #f.write(str(i)+\"\\n\"+\"Distinction\")\n",
    "            print(str(i)+\" \"+\"Distinction\")\n",
    "        elif int(i)>=35:\n",
    "            #f.write(str (i)+\"\\n\"+\"1st class\")\n",
    "            print(str (i)+\" \"+\"1st class\")\n",
    "        elif int(i)<=35:\n",
    "            #f.write(str(i)+\"\\n\"+\"failed\")\n",
    "            print(str(i)+\" \"+\"failed\")\n",
    "        "
   ]
  },
  {
   "cell_type": "code",
   "execution_count": null,
   "metadata": {},
   "outputs": [],
   "source": []
  }
 ],
 "metadata": {
  "kernelspec": {
   "display_name": "Python 3",
   "language": "python",
   "name": "python3"
  },
  "language_info": {
   "codemirror_mode": {
    "name": "ipython",
    "version": 3
   },
   "file_extension": ".py",
   "mimetype": "text/x-python",
   "name": "python",
   "nbconvert_exporter": "python",
   "pygments_lexer": "ipython3",
   "version": "3.7.3"
  }
 },
 "nbformat": 4,
 "nbformat_minor": 2
}
