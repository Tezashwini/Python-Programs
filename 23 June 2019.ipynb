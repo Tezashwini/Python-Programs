{
 "cells": [
  {
   "cell_type": "code",
   "execution_count": 1,
   "metadata": {},
   "outputs": [
    {
     "name": "stdout",
     "output_type": "stream",
     "text": [
      "ii : 1\n",
      "ukyklil : 1\n",
      "asdfhj : 1\n",
      "tgb : 3\n",
      "9827612738189 : 1\n",
      "sagdg : 3\n",
      "yhnm : 3\n",
      "fff : 1\n",
      "heloooooooo : 1\n",
      "wse : 2\n",
      "jku : 1\n",
      "yui : 1\n",
      "iigtjnn : 1\n",
      "helooooo : 1\n",
      "ui : 2\n",
      "jjyj : 1\n",
      "rtc : 1\n"
     ]
    }
   ],
   "source": [
    "#function to print the frequency count of a\n",
    "# data in line1,line2,line3\n",
    "#o/p\n",
    "#data:3\n",
    "#in:3\n",
    "#line:3\n",
    "#1:1\n",
    "#2:1\n",
    "#3:1\n",
    "def ucount(filepath):     #Create an empty unique list\n",
    "    count=0\n",
    "    k=[]\n",
    "    with open(filepath,'r')as f:\n",
    "        for line in f:\n",
    "            for i in line.split():\n",
    "                k.append(i)\n",
    "        for i in set(k):\n",
    "            s=k.count(i)\n",
    "            print(i,\":\",s)\n",
    "filepath=\"Data Files/contactts.txt\"\n",
    "ucount(filepath)\n"
   ]
  }
 ],
 "metadata": {
  "kernelspec": {
   "display_name": "Python 3",
   "language": "python",
   "name": "python3"
  },
  "language_info": {
   "codemirror_mode": {
    "name": "ipython",
    "version": 3
   },
   "file_extension": ".py",
   "mimetype": "text/x-python",
   "name": "python",
   "nbconvert_exporter": "python",
   "pygments_lexer": "ipython3",
   "version": "3.7.3"
  }
 },
 "nbformat": 4,
 "nbformat_minor": 2
}
