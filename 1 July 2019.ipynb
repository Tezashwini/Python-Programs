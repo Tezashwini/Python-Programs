{
 "cells": [
  {
   "cell_type": "markdown",
   "metadata": {},
   "source": [
    "#Practice on Income Dataset <br>\n",
    "* Define functions for the following data points <br>\n",
    "* Average Income of all states from 2005 to 2013 <br>\n",
    "* State with highest average income in the last three years <br>\n",
    "* State with lowest average income from 2007 to 2010(inclusive) <br>\n",
    "* Print the list of all states in the same line with average income less than California <br>\n",
    "* Print the names of states based on descending order of income in the year 2009 <br>\n",
    "* State with the lowest recorded income from 2005 to 2013 <br>\n"
   ]
  },
  {
   "cell_type": "code",
   "execution_count": 4,
   "metadata": {},
   "outputs": [
    {
     "data": {
      "text/html": [
       "<div>\n",
       "<style scoped>\n",
       "    .dataframe tbody tr th:only-of-type {\n",
       "        vertical-align: middle;\n",
       "    }\n",
       "\n",
       "    .dataframe tbody tr th {\n",
       "        vertical-align: top;\n",
       "    }\n",
       "\n",
       "    .dataframe thead th {\n",
       "        text-align: right;\n",
       "    }\n",
       "</style>\n",
       "<table border=\"1\" class=\"dataframe\">\n",
       "  <thead>\n",
       "    <tr style=\"text-align: right;\">\n",
       "      <th></th>\n",
       "      <th>GEOID</th>\n",
       "      <th>State</th>\n",
       "      <th>2005</th>\n",
       "      <th>2006</th>\n",
       "      <th>2007</th>\n",
       "      <th>2008</th>\n",
       "      <th>2009</th>\n",
       "      <th>2010</th>\n",
       "      <th>2011</th>\n",
       "      <th>2012</th>\n",
       "      <th>2013</th>\n",
       "    </tr>\n",
       "  </thead>\n",
       "  <tbody>\n",
       "    <tr>\n",
       "      <th>0</th>\n",
       "      <td>04000US01</td>\n",
       "      <td>Alabama</td>\n",
       "      <td>37150</td>\n",
       "      <td>37952</td>\n",
       "      <td>42212</td>\n",
       "      <td>44476</td>\n",
       "      <td>39980</td>\n",
       "      <td>40933</td>\n",
       "      <td>42590</td>\n",
       "      <td>43464</td>\n",
       "      <td>41381</td>\n",
       "    </tr>\n",
       "    <tr>\n",
       "      <th>1</th>\n",
       "      <td>04000US02</td>\n",
       "      <td>Alaska</td>\n",
       "      <td>55891</td>\n",
       "      <td>56418</td>\n",
       "      <td>62993</td>\n",
       "      <td>63989</td>\n",
       "      <td>61604</td>\n",
       "      <td>57848</td>\n",
       "      <td>57431</td>\n",
       "      <td>63648</td>\n",
       "      <td>61137</td>\n",
       "    </tr>\n",
       "    <tr>\n",
       "      <th>2</th>\n",
       "      <td>04000US04</td>\n",
       "      <td>Arizona</td>\n",
       "      <td>45245</td>\n",
       "      <td>46657</td>\n",
       "      <td>47215</td>\n",
       "      <td>46914</td>\n",
       "      <td>45739</td>\n",
       "      <td>46896</td>\n",
       "      <td>48621</td>\n",
       "      <td>47044</td>\n",
       "      <td>50602</td>\n",
       "    </tr>\n",
       "    <tr>\n",
       "      <th>3</th>\n",
       "      <td>04000US05</td>\n",
       "      <td>Arkansas</td>\n",
       "      <td>36658</td>\n",
       "      <td>37057</td>\n",
       "      <td>40795</td>\n",
       "      <td>39586</td>\n",
       "      <td>36538</td>\n",
       "      <td>38587</td>\n",
       "      <td>41302</td>\n",
       "      <td>39018</td>\n",
       "      <td>39919</td>\n",
       "    </tr>\n",
       "    <tr>\n",
       "      <th>4</th>\n",
       "      <td>04000US06</td>\n",
       "      <td>California</td>\n",
       "      <td>51755</td>\n",
       "      <td>55319</td>\n",
       "      <td>55734</td>\n",
       "      <td>57014</td>\n",
       "      <td>56134</td>\n",
       "      <td>54283</td>\n",
       "      <td>53367</td>\n",
       "      <td>57020</td>\n",
       "      <td>57528</td>\n",
       "    </tr>\n",
       "  </tbody>\n",
       "</table>\n",
       "</div>"
      ],
      "text/plain": [
       "       GEOID       State   2005   2006   2007   2008   2009   2010   2011  \\\n",
       "0  04000US01     Alabama  37150  37952  42212  44476  39980  40933  42590   \n",
       "1  04000US02      Alaska  55891  56418  62993  63989  61604  57848  57431   \n",
       "2  04000US04     Arizona  45245  46657  47215  46914  45739  46896  48621   \n",
       "3  04000US05    Arkansas  36658  37057  40795  39586  36538  38587  41302   \n",
       "4  04000US06  California  51755  55319  55734  57014  56134  54283  53367   \n",
       "\n",
       "    2012   2013  \n",
       "0  43464  41381  \n",
       "1  63648  61137  \n",
       "2  47044  50602  \n",
       "3  39018  39919  \n",
       "4  57020  57528  "
      ]
     },
     "execution_count": 4,
     "metadata": {},
     "output_type": "execute_result"
    }
   ],
   "source": [
    "import pandas as pd\n",
    "filepath = 'Data Files/income.csv'\n",
    "incomedf = pd.read_csv(filepath)\n",
    "incomedf\n",
    "#print(incomedf)\n",
    "#sum = 0\n",
    "#for row in incomedf.values:\n",
    "    #sum += row[-1:]\n",
    "#avg=sum/len(incomedf.values)\n",
    "#print(avg)\n",
    "\n",
    "            \n",
    "        "
   ]
  },
  {
   "cell_type": "code",
   "execution_count": 10,
   "metadata": {},
   "outputs": [
    {
     "data": {
      "text/plain": [
       "0    37150\n",
       "1    55891\n",
       "2    45245\n",
       "3    36658\n",
       "4    51755\n",
       "Name: 2005, dtype: int64"
      ]
     },
     "execution_count": 10,
     "metadata": {},
     "output_type": "execute_result"
    }
   ],
   "source": [
    "incomedf.loc[:,\"2005\"]"
   ]
  },
  {
   "cell_type": "code",
   "execution_count": 11,
   "metadata": {},
   "outputs": [
    {
     "data": {
      "text/plain": [
       "array([50038.8, 50113.4], dtype=object)"
      ]
     },
     "execution_count": 11,
     "metadata": {},
     "output_type": "execute_result"
    }
   ],
   "source": [
    "sum = 0\n",
    "for row in incomedf.values:\n",
    "    sum += row[-2:]\n",
    "    \n",
    "sum/len(incomedf.values)"
   ]
  },
  {
   "cell_type": "code",
   "execution_count": 12,
   "metadata": {},
   "outputs": [
    {
     "data": {
      "text/plain": [
       "50113.4"
      ]
     },
     "execution_count": 12,
     "metadata": {},
     "output_type": "execute_result"
    }
   ],
   "source": [
    "sum = 0\n",
    "for row in incomedf.values:\n",
    "    sum += row[-1]\n",
    "    \n",
    "sum/len(incomedf.values)"
   ]
  },
  {
   "cell_type": "code",
   "execution_count": 10,
   "metadata": {},
   "outputs": [
    {
     "name": "stdout",
     "output_type": "stream",
     "text": [
      "2\n",
      "10\n",
      "['04000US01' 'Alabama' 37150 37952 42212 44476 39980 40933 42590 43464\n",
      " 41381]\n",
      "37150\n",
      "37952\n",
      "42212\n",
      "44476\n",
      "39980\n",
      "40933\n",
      "42590\n",
      "43464\n",
      "['04000US02' 'Alaska' 55891 56418 62993 63989 61604 57848 57431 63648\n",
      " 61137]\n",
      "55891\n",
      "56418\n",
      "62993\n",
      "63989\n",
      "61604\n",
      "57848\n",
      "57431\n",
      "63648\n",
      "['04000US04' 'Arizona' 45245 46657 47215 46914 45739 46896 48621 47044\n",
      " 50602]\n",
      "45245\n",
      "46657\n",
      "47215\n",
      "46914\n",
      "45739\n",
      "46896\n",
      "48621\n",
      "47044\n",
      "['04000US05' 'Arkansas' 36658 37057 40795 39586 36538 38587 41302 39018\n",
      " 39919]\n",
      "36658\n",
      "37057\n",
      "40795\n",
      "39586\n",
      "36538\n",
      "38587\n",
      "41302\n",
      "39018\n",
      "['04000US06' 'California' 51755 55319 55734 57014 56134 54283 53367 57020\n",
      " 57528]\n",
      "51755\n",
      "55319\n",
      "55734\n",
      "57014\n",
      "56134\n",
      "54283\n",
      "53367\n",
      "57020\n"
     ]
    },
    {
     "data": {
      "text/plain": [
       "48326"
      ]
     },
     "execution_count": 10,
     "metadata": {},
     "output_type": "execute_result"
    }
   ],
   "source": [
    "def getRowIndex(df, rowkey):\n",
    "    for i in range(len(df.values)):\n",
    "        if df.values[i][0] == rowkey or df.values[i][1] == rowkey:\n",
    "            rowindex = i\n",
    "    return rowindex\n",
    "def getColumnIndex(df, columnkey):\n",
    "    for i in range(len(df.columns)):\n",
    "        if df.columns[i] == columnkey:\n",
    "            columnindex = i\n",
    "    return columnindex\n",
    "def avg(incomedf,lb,ub):\n",
    "    lb=getColumnIndex(incomedf, lb)\n",
    "    print(lb)\n",
    "    ub=getColumnIndex(incomedf, ub)\n",
    "    print(ub)\n",
    "    count=0\n",
    "    sum=0\n",
    "    for i in range(len(incomedf.values)):\n",
    "        print(incomedf.values[i])\n",
    "        for j in range(lb,ub):\n",
    "            print(incomedf.values[i][j])\n",
    "            sum+=incomedf.values[i][j]\n",
    "            count+=1\n",
    "    return sum//count\n",
    "avg(incomedf,\"2005\",\"2013\")\n"
   ]
  },
  {
   "cell_type": "code",
   "execution_count": 80,
   "metadata": {},
   "outputs": [
    {
     "name": "stdout",
     "output_type": "stream",
     "text": [
      "0       Alabama\n",
      "1        Alaska\n",
      "2       Arizona\n",
      "3      Arkansas\n",
      "4    California\n",
      "Name: State, dtype: object\n",
      "[61604, 56134, 45739, 39980, 36538]\n"
     ]
    }
   ],
   "source": [
    "#Print the names of states based on descending order of income in the year 2009\n",
    "def year():\n",
    "    s=incomedf.loc[:,\"2009\"]\n",
    "    s1=incomedf.loc[:,\"State\"]\n",
    "    print(s1)\n",
    "    k=[]\n",
    "    for column in s:\n",
    "        k.append(column)\n",
    "        k.sort(reverse=True)\n",
    "    print(k)\n",
    "year()\n",
    "    \n",
    "    "
   ]
  },
  {
   "cell_type": "code",
   "execution_count": 82,
   "metadata": {},
   "outputs": [
    {
     "data": {
      "text/plain": [
       "{'State': 61604}"
      ]
     },
     "execution_count": 82,
     "metadata": {},
     "output_type": "execute_result"
    }
   ],
   "source": [
    "d={}\n",
    "d[\"State\"]=61604\n",
    "d"
   ]
  },
  {
   "cell_type": "code",
   "execution_count": null,
   "metadata": {},
   "outputs": [],
   "source": [
    "# State with highest average income in the last three years \n",
    "\n"
   ]
  }
 ],
 "metadata": {
  "kernelspec": {
   "display_name": "Python 3",
   "language": "python",
   "name": "python3"
  },
  "language_info": {
   "codemirror_mode": {
    "name": "ipython",
    "version": 3
   },
   "file_extension": ".py",
   "mimetype": "text/x-python",
   "name": "python",
   "nbconvert_exporter": "python",
   "pygments_lexer": "ipython3",
   "version": "3.7.3"
  }
 },
 "nbformat": 4,
 "nbformat_minor": 2
}
